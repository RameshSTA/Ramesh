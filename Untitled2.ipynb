{
  "nbformat": 4,
  "nbformat_minor": 0,
  "metadata": {
    "colab": {
      "provenance": [],
      "authorship_tag": "ABX9TyMdp/5ms3vByqTbHGsxotuo",
      "include_colab_link": true
    },
    "kernelspec": {
      "name": "python3",
      "display_name": "Python 3"
    },
    "language_info": {
      "name": "python"
    }
  },
  "cells": [
    {
      "cell_type": "markdown",
      "metadata": {
        "id": "view-in-github",
        "colab_type": "text"
      },
      "source": [
        "<a href=\"https://colab.research.google.com/github/RameshSTA/Ramesh/blob/main/Untitled2.ipynb\" target=\"_parent\"><img src=\"https://colab.research.google.com/assets/colab-badge.svg\" alt=\"Open In Colab\"/></a>"
      ]
    },
    {
      "cell_type": "code",
      "execution_count": null,
      "metadata": {
        "id": "P6r654LlCyqi"
      },
      "outputs": [],
      "source": [
        "import pandas  as  pd  \n",
        "import numpy as np  \n"
      ]
    },
    {
      "cell_type": "code",
      "source": [
        "print( \"helo ramesh shrestha that  is more clear  in the section that more celar  but still the maagement are more  imortant\")"
      ],
      "metadata": {
        "colab": {
          "base_uri": "https://localhost:8080/"
        },
        "id": "Zo46mNLIC4Yk",
        "outputId": "23f7c78d-6e66-401d-9788-b93ee3526d2a"
      },
      "execution_count": null,
      "outputs": [
        {
          "output_type": "stream",
          "name": "stdout",
          "text": [
            "helo ramesh shrestha that  is more clear  in the section that more celar  but still the maagement are more  imortant\n"
          ]
        }
      ]
    },
    {
      "cell_type": "code",
      "source": [],
      "metadata": {
        "id": "-sZ4KcVqDYYe"
      },
      "execution_count": null,
      "outputs": []
    }
  ]
}